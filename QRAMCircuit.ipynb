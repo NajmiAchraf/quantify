{
 "cells": [
  {
   "cell_type": "markdown",
   "metadata": {},
   "source": [
    "# COMPARING RESULTS:"
   ]
  },
  {
   "cell_type": "markdown",
   "metadata": {},
   "source": [
    "## Simulation circuit result of the all experiments of 2 qubits:"
   ]
  },
  {
   "cell_type": "markdown",
   "metadata": {},
   "source": [
    "| Experiment        | Failed (%)                         | Succeed (%)                            | Measurements (%)                          | Output Vector (%)                           |\n",
    "|-------------------|------------------------------------|----------------------------------------|-------------------------------------------|---------------------------------------------|\n",
    "| AN0_TD4_TC7_CX6   | <span style=\"color:red\">0.00       | <span style=\"color:green\">100.00       | <span style=\"color:blue\">0.00             | <span style=\"color:green\">100.00            |\n",
    "| AN0_TD4_TC6_CX6   | <span style=\"color:red\">0.00       | <span style=\"color:yellow\">100.00      | <span style=\"color:blue\">46.88            | <span style=\"color:green\">53.12             |\n",
    "| AN0_TD4_TC5_CX6   | <span style=\"color:red\">0.00       | <span style=\"color:yellow\">100.00      | <span style=\"color:blue\">52.34            | <span style=\"color:green\">47.66             |\n",
    "| AN0_TD4_TC4_CX6   | <span style=\"color:red\">0.00       | <span style=\"color:yellow\">100.00      | <span style=\"color:blue\">21.09            | <span style=\"color:green\">78.91             |\n"
   ]
  },
  {
   "cell_type": "markdown",
   "metadata": {},
   "source": [
    "## Simulation circuit result of the all experiments of 3 qubits:"
   ]
  },
  {
   "cell_type": "markdown",
   "metadata": {},
   "source": [
    "| Experiment        | Failed (%)                         | Succeed (%)                            | Measurements (%)                          | Output Vector (%)                           |\n",
    "|-------------------|------------------------------------|----------------------------------------|-------------------------------------------|---------------------------------------------|\n",
    "| AN0_TD4_TC7_CX6   | <span style=\"color:red\">0.00       | <span style=\"color:green\">100.00       | <span style=\"color:blue\">0.00             | <span style=\"color:green\">100.00            |\n",
    "| AN0_TD4_TC6_CX6   | <span style=\"color:red\">0.00       | <span style=\"color:yellow\">100.00      | <span style=\"color:blue\">49.61            | <span style=\"color:green\">50.39             |\n",
    "| AN0_TD4_TC5_CX6   | <span style=\"color:red\">0.00       | <span style=\"color:yellow\">100.00      | <span style=\"color:blue\">39.44            | <span style=\"color:green\">60.56             |\n",
    "| AN0_TD4_TC4_CX6   | <span style=\"color:red\">0.00       | <span style=\"color:yellow\">100.00      | <span style=\"color:blue\">31.53            | <span style=\"color:green\">68.47             |\n"
   ]
  },
  {
   "cell_type": "markdown",
   "metadata": {},
   "source": [
    "# COMPARING BILANS:"
   ]
  },
  {
   "cell_type": "markdown",
   "metadata": {},
   "source": [
    "## T count comparison of the three experiments (Modded):"
   ]
  },
  {
   "cell_type": "markdown",
   "metadata": {},
   "source": [
    "| Qubits Range | T Count Reference | T Count Modded (Exp 1)                          | T Count Modded (Exp 2)                          | T Count Modded (Exp 3)                          |\n",
    "|--------------|-------------------|-------------------------------------------------|-------------------------------------------------|-------------------------------------------------|\n",
    "| 2            | 40                | <span style=\"color:green\">36 (90.00%)           | <span style=\"color:green\">32 (80.00%)           | <span style=\"color:green\">28 (70.00%)           |\n",
    "| 3            | 96                | <span style=\"color:green\">88 (91.67%)           | <span style=\"color:green\">80 (83.33%)           | <span style=\"color:green\">72 (75.00%)           |\n",
    "| 4            | 208               | <span style=\"color:green\">192 (92.31%)          | <span style=\"color:green\">176 (84.62%)          | <span style=\"color:green\">160 (76.92%)          |\n",
    "| 5            | 432               | <span style=\"color:green\">400 (92.59%)          | <span style=\"color:green\">368 (85.19%)          | <span style=\"color:green\">336 (77.78%)          |\n",
    "| 6            | 880               | <span style=\"color:green\">816 (92.73%)          | <span style=\"color:green\">752 (85.45%)          | <span style=\"color:green\">688 (78.18%)          |\n",
    "| 7            | 1776              | <span style=\"color:green\">1648 (92.79%)         | <span style=\"color:green\">1520 (85.59%)         | <span style=\"color:green\">1392 (78.38%)         |\n",
    "| 8            | 3568              | <span style=\"color:green\">3312 (92.83%)         | <span style=\"color:green\">3056 (85.65%)         | <span style=\"color:green\">2800 (78.48%)         |\n",
    "| 9            | 7152              | <span style=\"color:green\">6640 (92.84%)         | <span style=\"color:green\">6128 (85.68%)         | <span style=\"color:green\">5616 (78.52%)         |\n"
   ]
  },
  {
   "cell_type": "markdown",
   "metadata": {},
   "source": [
    "## T count comparison of the three experiments (Cancelled):"
   ]
  },
  {
   "cell_type": "markdown",
   "metadata": {},
   "source": [
    "| Qubits Range | T Count Reference | T Count Cancelled (Exp 1)                           | T Count Cancelled (Exp 2)                           | T Count Cancelled (Exp 3)                           |\n",
    "|--------------|-------------------|-----------------------------------------------------|-----------------------------------------------------|-----------------------------------------------------|\n",
    "| 2            | 40                | <span style=\"color:orange\">4 (10.00%)               | <span style=\"color:orange\">8 (20.00%)               | <span style=\"color:orange\">12 (30.00%)              |\n",
    "| 3            | 96                | <span style=\"color:orange\">8 (8.33%)                | <span style=\"color:orange\">16 (16.67%)              | <span style=\"color:orange\">24 (25.00%)              |\n",
    "| 4            | 208               | <span style=\"color:orange\">16 (7.69%)               | <span style=\"color:orange\">32 (15.38%)              | <span style=\"color:orange\">48 (23.08%)              |\n",
    "| 5            | 432               | <span style=\"color:orange\">32 (7.41%)               | <span style=\"color:orange\">64 (14.81%)              | <span style=\"color:orange\">96 (22.22%)              |\n",
    "| 6            | 880               | <span style=\"color:orange\">64 (7.27%)               | <span style=\"color:orange\">128 (14.55%)             | <span style=\"color:orange\">192 (21.82%)             |\n",
    "| 7            | 1776              | <span style=\"color:orange\">128 (7.21%)              | <span style=\"color:orange\">256 (14.41%)             | <span style=\"color:orange\">384 (21.62%)             |\n",
    "| 8            | 3568              | <span style=\"color:orange\">256 (7.17%)              | <span style=\"color:orange\">512 (14.35%)             | <span style=\"color:orange\">768 (21.52%)             |\n",
    "| 9            | 7152              | <span style=\"color:orange\">512 (7.16%)              | <span style=\"color:orange\">1024 (14.32%)            | <span style=\"color:orange\">1536 (21.48%)            |"
   ]
  }
 ],
 "metadata": {
  "kernelspec": {
   "display_name": ".venv",
   "language": "python",
   "name": "python3"
  },
  "language_info": {
   "codemirror_mode": {
    "name": "ipython",
    "version": 3
   },
   "file_extension": ".py",
   "mimetype": "text/x-python",
   "name": "python",
   "nbconvert_exporter": "python",
   "pygments_lexer": "ipython3",
   "version": "3.8.6"
  }
 },
 "nbformat": 4,
 "nbformat_minor": 2
}
